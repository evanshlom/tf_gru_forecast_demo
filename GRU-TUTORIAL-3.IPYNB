{
 "cells": [
  {
   "cell_type": "markdown",
   "metadata": {},
   "source": [
    "PLEASE DEMONSTRATE TAKING A TIME SERIES DATA PANDAS DATZFRAME CONVERTING IT TO TENSORFLOW DATASET TO FITTING IT AND RUNNG THE FORECAST"
   ]
  },
  {
   "cell_type": "markdown",
   "metadata": {},
   "source": [
    "1. Prepare the Data\n",
    "\n",
    "Let's start by creating a sample time series dataset in a Pandas DataFrame. We'll generate a simple synthetic dataset for illustration."
   ]
  },
  {
   "cell_type": "code",
   "execution_count": 8,
   "metadata": {},
   "outputs": [
    {
     "name": "stdout",
     "output_type": "stream",
     "text": [
      "               value\n",
      "2018-01-01  0.002487\n",
      "2018-02-01  0.918417\n",
      "2018-03-01  0.869242\n",
      "2018-04-01  1.013933\n",
      "2018-05-01  0.913081\n"
     ]
    }
   ],
   "source": [
    "import pandas as pd\n",
    "import numpy as np\n",
    "\n",
    "# Generate synthetic monthly time series data\n",
    "date_range = pd.date_range(start='2018-01-01', end='2024-12-01', freq='MS')\n",
    "#data = np.sin(np.arange(len(date_range))) + np.random.normal(scale=0.1, size=len(date_range))\n",
    "data = np.tanh(np.arange(len(date_range))) + np.random.normal(scale=0.1, size=len(date_range))\n",
    "df = pd.DataFrame(data, index=date_range, columns=['value'])\n",
    "\n",
    "# Display the first few rows\n",
    "print(df.head())"
   ]
  },
  {
   "cell_type": "markdown",
   "metadata": {},
   "source": [
    "2. Preprocess the Data\n",
    "\n",
    "Next, we'll preprocess the data by normalizing it and converting it into sequences suitable for training the model."
   ]
  },
  {
   "cell_type": "code",
   "execution_count": 9,
   "metadata": {},
   "outputs": [],
   "source": [
    "from sklearn.preprocessing import MinMaxScaler\n",
    "\n",
    "# Normalize the data\n",
    "scaler = MinMaxScaler(feature_range=(0, 1))\n",
    "scaled_data = scaler.fit_transform(df.values)\n",
    "\n",
    "# Create sequences for training\n",
    "def create_sequences(data, time_steps=12):\n",
    "    X, y = [], []\n",
    "    for i in range(len(data) - time_steps):\n",
    "        X.append(data[i:i + time_steps])\n",
    "        y.append(data[i + time_steps])\n",
    "    return np.array(X), np.array(y)\n",
    "\n",
    "time_steps = 12\n",
    "X, y = create_sequences(scaled_data, time_steps)\n"
   ]
  },
  {
   "cell_type": "markdown",
   "metadata": {},
   "source": [
    "3. Convert to TensorFlow Dataset\n",
    "\n",
    "Now, we convert the sequences into a TensorFlow Dataset for efficient training."
   ]
  },
  {
   "cell_type": "code",
   "execution_count": 10,
   "metadata": {},
   "outputs": [],
   "source": [
    "import tensorflow as tf\n",
    "\n",
    "# Convert to TensorFlow Dataset\n",
    "batch_size = 32\n",
    "dataset = tf.data.Dataset.from_tensor_slices((X, y))\n",
    "dataset = dataset.shuffle(buffer_size=1000).batch(batch_size).prefetch(tf.data.experimental.AUTOTUNE)\n"
   ]
  },
  {
   "cell_type": "code",
   "execution_count": 11,
   "metadata": {},
   "outputs": [
    {
     "name": "stdout",
     "output_type": "stream",
     "text": [
      "(32, 12, 1)\n",
      "(32, 1)\n"
     ]
    }
   ],
   "source": [
    "'''\n",
    "\n",
    "OPTIONAL\n",
    "\n",
    "'''\n",
    "\n",
    "# EXAMINE DATASET\n",
    "for x, y in dataset.take(1):\n",
    "    print(x.shape)\n",
    "    print(y.shape)"
   ]
  },
  {
   "cell_type": "markdown",
   "metadata": {},
   "source": [
    "4. Build and Train the GRU Model\n",
    "\n",
    "We'll build a simple GRU model and train it on the dataset."
   ]
  },
  {
   "cell_type": "code",
   "execution_count": 12,
   "metadata": {},
   "outputs": [
    {
     "name": "stdout",
     "output_type": "stream",
     "text": [
      "Epoch 1/100\n",
      "3/3 [==============================] - 3s 11ms/step - loss: 0.8193\n",
      "Epoch 2/100\n",
      "3/3 [==============================] - 0s 11ms/step - loss: 0.3652\n",
      "Epoch 3/100\n",
      "3/3 [==============================] - 0s 9ms/step - loss: 0.0911\n",
      "Epoch 4/100\n",
      "3/3 [==============================] - 0s 8ms/step - loss: 0.0097\n",
      "Epoch 5/100\n",
      "3/3 [==============================] - 0s 8ms/step - loss: 0.0728\n",
      "Epoch 6/100\n",
      "3/3 [==============================] - 0s 8ms/step - loss: 0.0737\n",
      "Epoch 7/100\n",
      "3/3 [==============================] - 0s 8ms/step - loss: 0.0269\n",
      "Epoch 8/100\n",
      "3/3 [==============================] - 0s 8ms/step - loss: 0.0080\n",
      "Epoch 9/100\n",
      "3/3 [==============================] - 0s 8ms/step - loss: 0.0132\n",
      "Epoch 10/100\n",
      "3/3 [==============================] - 0s 7ms/step - loss: 0.0210\n",
      "Epoch 11/100\n",
      "3/3 [==============================] - 0s 8ms/step - loss: 0.0210\n",
      "Epoch 12/100\n",
      "3/3 [==============================] - 0s 8ms/step - loss: 0.0151\n",
      "Epoch 13/100\n",
      "3/3 [==============================] - 0s 8ms/step - loss: 0.0089\n",
      "Epoch 14/100\n",
      "3/3 [==============================] - 0s 8ms/step - loss: 0.0067\n",
      "Epoch 15/100\n",
      "3/3 [==============================] - 0s 8ms/step - loss: 0.0091\n",
      "Epoch 16/100\n",
      "3/3 [==============================] - 0s 8ms/step - loss: 0.0112\n",
      "Epoch 17/100\n",
      "3/3 [==============================] - 0s 8ms/step - loss: 0.0103\n",
      "Epoch 18/100\n",
      "3/3 [==============================] - 0s 9ms/step - loss: 0.0079\n",
      "Epoch 19/100\n",
      "3/3 [==============================] - 0s 27ms/step - loss: 0.0071\n",
      "Epoch 20/100\n",
      "3/3 [==============================] - 0s 10ms/step - loss: 0.0072\n",
      "Epoch 21/100\n",
      "3/3 [==============================] - 0s 9ms/step - loss: 0.0078\n",
      "Epoch 22/100\n",
      "3/3 [==============================] - 0s 9ms/step - loss: 0.0077\n",
      "Epoch 23/100\n",
      "3/3 [==============================] - 0s 9ms/step - loss: 0.0071\n",
      "Epoch 24/100\n",
      "3/3 [==============================] - 0s 9ms/step - loss: 0.0070\n",
      "Epoch 25/100\n",
      "3/3 [==============================] - 0s 9ms/step - loss: 0.0074\n",
      "Epoch 26/100\n",
      "3/3 [==============================] - 0s 8ms/step - loss: 0.0074\n",
      "Epoch 27/100\n",
      "3/3 [==============================] - 0s 9ms/step - loss: 0.0070\n",
      "Epoch 28/100\n",
      "3/3 [==============================] - 0s 9ms/step - loss: 0.0069\n",
      "Epoch 29/100\n",
      "3/3 [==============================] - 0s 9ms/step - loss: 0.0073\n",
      "Epoch 30/100\n",
      "3/3 [==============================] - 0s 10ms/step - loss: 0.0073\n",
      "Epoch 31/100\n",
      "3/3 [==============================] - 0s 7ms/step - loss: 0.0069\n",
      "Epoch 32/100\n",
      "3/3 [==============================] - 0s 9ms/step - loss: 0.0070\n",
      "Epoch 33/100\n",
      "3/3 [==============================] - 0s 9ms/step - loss: 0.0072\n",
      "Epoch 34/100\n",
      "3/3 [==============================] - 0s 9ms/step - loss: 0.0072\n",
      "Epoch 35/100\n",
      "3/3 [==============================] - 0s 9ms/step - loss: 0.0070\n",
      "Epoch 36/100\n",
      "3/3 [==============================] - 0s 10ms/step - loss: 0.0069\n",
      "Epoch 37/100\n",
      "3/3 [==============================] - 0s 10ms/step - loss: 0.0070\n",
      "Epoch 38/100\n",
      "3/3 [==============================] - 0s 8ms/step - loss: 0.0070\n",
      "Epoch 39/100\n",
      "3/3 [==============================] - 0s 10ms/step - loss: 0.0069\n",
      "Epoch 40/100\n",
      "3/3 [==============================] - 0s 9ms/step - loss: 0.0070\n",
      "Epoch 41/100\n",
      "3/3 [==============================] - 0s 9ms/step - loss: 0.0070\n",
      "Epoch 42/100\n",
      "3/3 [==============================] - 0s 8ms/step - loss: 0.0070\n",
      "Epoch 43/100\n",
      "3/3 [==============================] - 0s 9ms/step - loss: 0.0070\n",
      "Epoch 44/100\n",
      "3/3 [==============================] - 0s 8ms/step - loss: 0.0070\n",
      "Epoch 45/100\n",
      "3/3 [==============================] - 0s 9ms/step - loss: 0.0070\n",
      "Epoch 46/100\n",
      "3/3 [==============================] - 0s 8ms/step - loss: 0.0069\n",
      "Epoch 47/100\n",
      "3/3 [==============================] - 0s 10ms/step - loss: 0.0069\n",
      "Epoch 48/100\n",
      "3/3 [==============================] - 0s 9ms/step - loss: 0.0069\n",
      "Epoch 49/100\n",
      "3/3 [==============================] - 0s 11ms/step - loss: 0.0069\n",
      "Epoch 50/100\n",
      "3/3 [==============================] - 0s 9ms/step - loss: 0.0069\n",
      "Epoch 51/100\n",
      "3/3 [==============================] - 0s 9ms/step - loss: 0.0070\n",
      "Epoch 52/100\n",
      "3/3 [==============================] - 0s 8ms/step - loss: 0.0070\n",
      "Epoch 53/100\n",
      "3/3 [==============================] - 0s 9ms/step - loss: 0.0069\n",
      "Epoch 54/100\n",
      "3/3 [==============================] - 0s 8ms/step - loss: 0.0070\n",
      "Epoch 55/100\n",
      "3/3 [==============================] - 0s 8ms/step - loss: 0.0069\n",
      "Epoch 56/100\n",
      "3/3 [==============================] - 0s 9ms/step - loss: 0.0070\n",
      "Epoch 57/100\n",
      "3/3 [==============================] - 0s 9ms/step - loss: 0.0070\n",
      "Epoch 58/100\n",
      "3/3 [==============================] - 0s 8ms/step - loss: 0.0071\n",
      "Epoch 59/100\n",
      "3/3 [==============================] - 0s 8ms/step - loss: 0.0070\n",
      "Epoch 60/100\n",
      "3/3 [==============================] - 0s 8ms/step - loss: 0.0069\n",
      "Epoch 61/100\n",
      "3/3 [==============================] - 0s 8ms/step - loss: 0.0070\n",
      "Epoch 62/100\n",
      "3/3 [==============================] - 0s 9ms/step - loss: 0.0070\n",
      "Epoch 63/100\n",
      "3/3 [==============================] - 0s 8ms/step - loss: 0.0069\n",
      "Epoch 64/100\n",
      "3/3 [==============================] - 0s 8ms/step - loss: 0.0069\n",
      "Epoch 65/100\n",
      "3/3 [==============================] - 0s 8ms/step - loss: 0.0069\n",
      "Epoch 66/100\n",
      "3/3 [==============================] - 0s 9ms/step - loss: 0.0069\n",
      "Epoch 67/100\n",
      "3/3 [==============================] - 0s 8ms/step - loss: 0.0070\n",
      "Epoch 68/100\n",
      "3/3 [==============================] - 0s 8ms/step - loss: 0.0070\n",
      "Epoch 69/100\n",
      "3/3 [==============================] - 0s 8ms/step - loss: 0.0069\n",
      "Epoch 70/100\n",
      "3/3 [==============================] - 0s 11ms/step - loss: 0.0070\n",
      "Epoch 71/100\n",
      "3/3 [==============================] - 0s 10ms/step - loss: 0.0070\n",
      "Epoch 72/100\n",
      "3/3 [==============================] - 0s 8ms/step - loss: 0.0068\n",
      "Epoch 73/100\n",
      "3/3 [==============================] - 0s 7ms/step - loss: 0.0071\n",
      "Epoch 74/100\n",
      "3/3 [==============================] - 0s 8ms/step - loss: 0.0075\n",
      "Epoch 75/100\n",
      "3/3 [==============================] - 0s 9ms/step - loss: 0.0073\n",
      "Epoch 76/100\n",
      "3/3 [==============================] - 0s 9ms/step - loss: 0.0070\n",
      "Epoch 77/100\n",
      "3/3 [==============================] - 0s 9ms/step - loss: 0.0071\n",
      "Epoch 78/100\n",
      "3/3 [==============================] - 0s 8ms/step - loss: 0.0072\n",
      "Epoch 79/100\n",
      "3/3 [==============================] - 0s 8ms/step - loss: 0.0069\n",
      "Epoch 80/100\n",
      "3/3 [==============================] - 0s 9ms/step - loss: 0.0069\n",
      "Epoch 81/100\n",
      "3/3 [==============================] - 0s 8ms/step - loss: 0.0076\n",
      "Epoch 82/100\n",
      "3/3 [==============================] - 0s 8ms/step - loss: 0.0076\n",
      "Epoch 83/100\n",
      "3/3 [==============================] - 0s 8ms/step - loss: 0.0069\n",
      "Epoch 84/100\n",
      "3/3 [==============================] - 0s 11ms/step - loss: 0.0070\n",
      "Epoch 85/100\n",
      "3/3 [==============================] - 0s 8ms/step - loss: 0.0069\n",
      "Epoch 86/100\n",
      "3/3 [==============================] - 0s 7ms/step - loss: 0.0068\n",
      "Epoch 87/100\n",
      "3/3 [==============================] - 0s 8ms/step - loss: 0.0070\n",
      "Epoch 88/100\n",
      "3/3 [==============================] - 0s 8ms/step - loss: 0.0072\n",
      "Epoch 89/100\n",
      "3/3 [==============================] - 0s 9ms/step - loss: 0.0070\n",
      "Epoch 90/100\n",
      "3/3 [==============================] - 0s 9ms/step - loss: 0.0072\n",
      "Epoch 91/100\n",
      "3/3 [==============================] - 0s 9ms/step - loss: 0.0072\n",
      "Epoch 92/100\n",
      "3/3 [==============================] - 0s 9ms/step - loss: 0.0069\n",
      "Epoch 93/100\n",
      "3/3 [==============================] - 0s 8ms/step - loss: 0.0070\n",
      "Epoch 94/100\n",
      "3/3 [==============================] - 0s 9ms/step - loss: 0.0070\n",
      "Epoch 95/100\n",
      "3/3 [==============================] - 0s 8ms/step - loss: 0.0068\n",
      "Epoch 96/100\n",
      "3/3 [==============================] - 0s 8ms/step - loss: 0.0069\n",
      "Epoch 97/100\n",
      "3/3 [==============================] - 0s 8ms/step - loss: 0.0072\n",
      "Epoch 98/100\n",
      "3/3 [==============================] - 0s 8ms/step - loss: 0.0074\n",
      "Epoch 99/100\n",
      "3/3 [==============================] - 0s 8ms/step - loss: 0.0071\n",
      "Epoch 100/100\n",
      "3/3 [==============================] - 0s 8ms/step - loss: 0.0070\n"
     ]
    },
    {
     "data": {
      "text/plain": [
       "<keras.callbacks.History at 0x258b11d4cd0>"
      ]
     },
     "execution_count": 12,
     "metadata": {},
     "output_type": "execute_result"
    }
   ],
   "source": [
    "from tensorflow.keras.models import Sequential\n",
    "from tensorflow.keras.layers import GRU, Dense\n",
    "\n",
    "# Build the GRU model\n",
    "model = Sequential([\n",
    "    GRU(50, return_sequences=True, input_shape=(time_steps, 1)),\n",
    "    GRU(50),\n",
    "    Dense(1)\n",
    "])\n",
    "\n",
    "# Compile the model\n",
    "model.compile(optimizer='adam', loss='mean_squared_error')\n",
    "\n",
    "# Train the model\n",
    "epochs = 100\n",
    "model.fit(dataset, epochs=epochs, verbose=1)\n"
   ]
  },
  {
   "cell_type": "markdown",
   "metadata": {},
   "source": [
    "5. Make Predictions\n",
    "\n",
    "Finally, we'll forecast the next 12 months and inverse transform the predictions to their original scale."
   ]
  },
  {
   "cell_type": "code",
   "execution_count": 13,
   "metadata": {},
   "outputs": [
    {
     "name": "stdout",
     "output_type": "stream",
     "text": [
      "            forecast\n",
      "2025-01-01  1.013603\n",
      "2025-02-01  1.008801\n",
      "2025-03-01  1.007182\n",
      "2025-04-01  1.007598\n",
      "2025-05-01  1.008909\n",
      "2025-06-01  1.010044\n",
      "2025-07-01  1.011606\n",
      "2025-08-01  1.013136\n",
      "2025-09-01  1.013673\n",
      "2025-10-01  1.015175\n",
      "2025-11-01  1.015829\n",
      "2025-12-01  1.016382\n"
     ]
    }
   ],
   "source": [
    "# Prepare the input data for forecasting the next 12 months\n",
    "forecast_input = scaled_data[-time_steps:].reshape(1, time_steps, 1)\n",
    "\n",
    "# Forecast the next 12 months\n",
    "forecasts = []\n",
    "for _ in range(12):\n",
    "    prediction = model.predict(forecast_input)\n",
    "    forecasts.append(prediction[0, 0])\n",
    "    \n",
    "    # Update forecast_input: remove the first element and append the new prediction\n",
    "    new_input = np.append(forecast_input[:, 1:, :], [[[prediction[0, 0]]]], axis=1)\n",
    "\n",
    "    # Reshape the new input to maintain the correct dimensions\n",
    "    forecast_input = new_input.reshape(1, time_steps, 1)\n",
    "\n",
    "# Inverse transform the forecasts\n",
    "forecasts = np.array(forecasts).reshape(-1, 1)\n",
    "forecasts_original_scale = scaler.inverse_transform(forecasts)\n",
    "\n",
    "# Display the forecasts\n",
    "forecast_dates = pd.date_range(start=df.index[-1] + pd.DateOffset(months=1), periods=12, freq='MS')\n",
    "forecast_df = pd.DataFrame(forecasts_original_scale, index=forecast_dates, columns=['forecast'])\n",
    "print(forecast_df)\n"
   ]
  },
  {
   "cell_type": "markdown",
   "metadata": {},
   "source": [
    "Explanation\n",
    "\n",
    "\n",
    "Data Preparation: The data is first normalized using MinMaxScaler to fit within the range [0, 1]. Sequences are created using a sliding window approach, where each sequence consists of the past 12 months to predict the next month.\n",
    "\n",
    "TensorFlow Dataset: The data is converted into a tf.data.Dataset for efficient batch processing and prefetching during training.\n",
    "\n",
    "Model Architecture: A GRU model with two layers is used, followed by a Dense layer for output. The model is compiled with the adam optimizer and mean_squared_error loss.\n",
    "\n",
    "Training and Forecasting: The model is trained for 100 epochs. For forecasting, the last 12 months of data are used to predict the next month iteratively for 12 months.\n",
    "\n",
    "Inverse Transformation: After forecasting, the predictions are inverse transformed to the original scale to interpret the results.\n",
    "\n",
    "This example demonstrates the entire process from data preparation to forecasting with a GRU model. Adjust the model's parameters, such as the number of units, epochs, and batch size, to better fit your specific dataset and requirements."
   ]
  },
  {
   "cell_type": "code",
   "execution_count": 16,
   "metadata": {},
   "outputs": [
    {
     "ename": "NameError",
     "evalue": "name 'mdates' is not defined",
     "output_type": "error",
     "traceback": [
      "\u001b[1;31m---------------------------------------------------------------------------\u001b[0m",
      "\u001b[1;31mNameError\u001b[0m                                 Traceback (most recent call last)",
      "Cell \u001b[1;32mIn[16], line 21\u001b[0m\n\u001b[0;32m     18\u001b[0m plt\u001b[38;5;241m.\u001b[39mylabel(\u001b[38;5;124m'\u001b[39m\u001b[38;5;124mValue\u001b[39m\u001b[38;5;124m'\u001b[39m)\n\u001b[0;32m     20\u001b[0m \u001b[38;5;66;03m# Formatting the x-axis ticks to display only years\u001b[39;00m\n\u001b[1;32m---> 21\u001b[0m plt\u001b[38;5;241m.\u001b[39mgca()\u001b[38;5;241m.\u001b[39mxaxis\u001b[38;5;241m.\u001b[39mset_major_formatter(\u001b[43mmdates\u001b[49m\u001b[38;5;241m.\u001b[39mDateFormatter(\u001b[38;5;124m'\u001b[39m\u001b[38;5;124m%\u001b[39m\u001b[38;5;124mY\u001b[39m\u001b[38;5;124m'\u001b[39m))\n\u001b[0;32m     23\u001b[0m \u001b[38;5;66;03m# Rotating the x-axis labels for better visibility\u001b[39;00m\n\u001b[0;32m     24\u001b[0m plt\u001b[38;5;241m.\u001b[39mxticks(rotation\u001b[38;5;241m=\u001b[39m\u001b[38;5;241m45\u001b[39m)\n",
      "\u001b[1;31mNameError\u001b[0m: name 'mdates' is not defined"
     ]
    },
    {
     "data": {
      "image/png": "[encoded data removed]",
      "text/plain": [
       "<Figure size 640x480 with 1 Axes>"
      ]
     },
     "metadata": {},
     "output_type": "display_data"
    }
   ],
   "source": [
    "import matplotlib.pyplot as plt\n",
    "\n",
    "import datetime\n",
    "\n",
    "# Sample data to plot\n",
    "dates = ['2025-01-01', '2025-02-01', '2025-03-01', '2025-04-01', '2025-05-01', '2025-06-01', '2025-07-01', '2025-08-01', '2025-09-01', '2025-10-01', '2025-11-01', '2025-12-01']\n",
    "values = [1.013603, 1.008801, 1.007182, 1.007598, 1.008909, 1.010044, 1.011606, 1.013136, 1.013673, 1.015175, 1.015829, 1.016382]\n",
    "\n",
    "# Convert date strings to datetime objects\n",
    "dates = [datetime.datetime.strptime(date, \"%Y-%m-%d\") for date in dates]\n",
    "\n",
    "# Plotting a simple line chart using the above data\n",
    "plt.plot(dates, values)\n",
    "\n",
    "# Adding chart titles and axis labels\n",
    "plt.title('Forecast Predictions')\n",
    "plt.xlabel('Date')\n",
    "plt.ylabel('Value')\n",
    "\n",
    "# Formatting the x-axis ticks to display only years\n",
    "plt.gca().xaxis.set_major_formatter(mdates.DateFormatter('%Y'))\n",
    "\n",
    "# Rotating the x-axis labels for better visibility\n",
    "plt.xticks(rotation=45)\n",
    "\n",
    "# Displaying the chart\n",
    "plt.show()"
   ]
  },
  {
   "cell_type": "code",
   "execution_count": 18,
   "metadata": {},
   "outputs": [
    {
     "ename": "SyntaxError",
     "evalue": "leading zeros in decimal integer literals are not permitted; use an 0o prefix for octal integers (614447196.py, line 10)",
     "output_type": "error",
     "traceback": [
      "\u001b[1;36m  Cell \u001b[1;32mIn[18], line 10\u001b[1;36m\u001b[0m\n\u001b[1;33m    forecast = pd.DataFrame({'date': ['2025-01-01', '2025-02-01 '2025-03-01', '2025-04-01', '2025-05-01', '2025-06-01', '2025-07-01', '2025-08-01', '2025-09-01', '2025-10-01', '2025-11-01', '2025-12-01'],\u001b[0m\n\u001b[1;37m                                                                      ^\u001b[0m\n\u001b[1;31mSyntaxError\u001b[0m\u001b[1;31m:\u001b[0m leading zeros in decimal integer literals are not permitted; use an 0o prefix for octal integers\n"
     ]
    }
   ],
   "source": [
    "import pandas as pd\n",
    "import matplotlib.pyplot as plt\n",
    "import matplotlib.dates as mdates\n",
    "\n",
    "# Create a dataframe for historical data\n",
    "historical = pd.DataFrame({'date': ['2018-01-01', '2018-02-01', '2018-03-01', '2018-04-01', '2018-05-01'],\n",
    "                           'value': [0.002487, 0.918417, 0.869242, 1.013933, 0.913081]})\n",
    "\n",
    "# Create a dataframe for forecast data\n",
    "forecast = pd.DataFrame({'date': ['2025-01-01', '2025-02-01 '2025-03-01', '2025-04-01', '2025-05-01', '2025-06-01', '2025-07-01', '2025-08-01', '2025-09-01', '2025-10-01', '2025-11-01', '2025-12-01'],\n",
    "                         'value': [1.013603, 1.008801, 1.007182, 1.007598, 1.008909, 1.010044, 1.011606, 1.013136, .013673, 1.015175, 1.015829, 1.016382]})\n",
    "\n",
    "# Convert date strings to datetime objects\n",
    "historical['date'] = pd.to_datetime(historical['date'])\n",
    "forecast[''] = pd.to_datetime(forecast['date'])\n",
    "\n",
    "# Merge the two dataframes\n",
    "merged = pd.concat([historical, forecast], ignore_index=True)\n",
    "\n",
    "# Plotting a simple line chart using the above data\n",
    "plt.plot(merged['date'], merged['value'])\n",
    "\n",
    "# Adding chart titles and axis labels\n",
    "plt.title('Historical and Forecast Predictions')\n",
    "plt.xlabel('Date')\n",
    "plt.ylabel('Value')\n",
    "\n",
    "# Formatting the x-axis ticks to display only years\n",
    "plt.gca().xaxis.set_major_formatter(mdates.DateFormatter('%Y'))\n",
    "\n",
    "# Rotating the x-axis labels for better visibility\n",
    "plt.xticks(rotation=45)\n",
    "\n",
    "# Displaying the chart\n",
    "plt.show()"
   ]
  },
  {
   "cell_type": "code",
   "execution_count": 14,
   "metadata": {},
   "outputs": [
    {
     "data": {
      "text/plain": [
       "[\"'IS' is not recognized as an internal or external command,\",\n",
       " 'operable program or batch file.']"
      ]
     },
     "execution_count": 14,
     "metadata": {},
     "output_type": "execute_result"
    }
   ],
   "source": [
    "\n",
    "\n",
    "  !!  IS UNNECK BC I THOT IT WAS NEEDED BC THER DUMM DATA IS MAD WEIRD BRO ITS ORIGINALLY MOSTLY -1.0 TO 1.0 MAD SURPRISING\n",
    "         # Inverse transform the forecasts (Optional)\n",
    "\n",
    "\n",
    "# from sklearn.preprocessing import MinMaxScaler\n",
    "# import numpy as np\n",
    "# import pandas as pd\n",
    "\n",
    "# # Assuming 'scaler' is your MinMaxScaler object and 'forecasts' is your array of scaled predictions\n",
    "# forecasts_scaled = np.array(forecasts).reshape(-1, 1)  # Ensure it's in the right shape for scaling\n",
    "# forecasts_original = scaler.inverse_transform(forecasts_scaled)  # Convert back to original scale\n",
    "\n",
    "# # Creating a DataFrame for display\n",
    "# forecast_dates = pd.date_range(start='2025-01-01', periods=len(forecasts), freq='MS')  # Adjust the start date as needed\n",
    "# forecast_df = pd.DataFrame(forecasts_original, index=forecast_dates, columns=['Forecast'])\n",
    "# print(forecast_df)\n"
   ]
  }
 ],
 "metadata": {
  "kernelspec": {
   "display_name": "tf1",
   "language": "python",
   "name": "python3"
  },
  "language_info": {
   "codemirror_mode": {
    "name": "ipython",
    "version": 3
   },
   "file_extension": ".py",
   "mimetype": "text/x-python",
   "name": "python",
   "nbconvert_exporter": "python",
   "pygments_lexer": "ipython3",
   "version": "3.10.14"
  }
 },
 "nbformat": 4,
 "nbformat_minor": 2
}
